{
  "nbformat": 4,
  "nbformat_minor": 0,
  "metadata": {
    "colab": {
      "name": "Day2_Session1_Exercise.ipynb",
      "provenance": [],
      "collapsed_sections": [],
      "include_colab_link": true
    },
    "kernelspec": {
      "name": "python3",
      "display_name": "Python 3"
    }
  },
  "cells": [
    {
      "cell_type": "markdown",
      "metadata": {
        "id": "view-in-github",
        "colab_type": "text"
      },
      "source": [
        "<a href=\"https://colab.research.google.com/github/Dhanya-bhat/Application_of_Python_Programming_in_DA_and_ML/blob/master/Day2_Session1_Exercise.ipynb\" target=\"_parent\"><img src=\"https://colab.research.google.com/assets/colab-badge.svg\" alt=\"Open In Colab\"/></a>"
      ]
    },
    {
      "cell_type": "markdown",
      "metadata": {
        "id": "yTQh6Q370_oB",
        "colab_type": "text"
      },
      "source": [
        "EXCERSISES"
      ]
    },
    {
      "cell_type": "markdown",
      "metadata": {
        "id": "jrSi70ep1Bck",
        "colab_type": "text"
      },
      "source": [
        "#print multiples of 3 upto 200 using a list"
      ]
    },
    {
      "cell_type": "code",
      "metadata": {
        "id": "zU8k6un11AFk",
        "colab_type": "code",
        "outputId": "79c79945-5406-4e28-ddf9-e96e45cdaed8",
        "colab": {
          "base_uri": "https://localhost:8080/",
          "height": 54
        }
      },
      "source": [
        "def multiple(m, n): \n",
        "    a = range(n, (m * n)+1, n)   \n",
        "    print(*a)   \n",
        "m = 66\n",
        "n = 3\n",
        "multiple(m, n) "
      ],
      "execution_count": 0,
      "outputs": [
        {
          "output_type": "stream",
          "text": [
            "3 6 9 12 15 18 21 24 27 30 33 36 39 42 45 48 51 54 57 60 63 66 69 72 75 78 81 84 87 90 93 96 99 102 105 108 111 114 117 120 123 126 129 132 135 138 141 144 147 150 153 156 159 162 165 168 171 174 177 180 183 186 189 192 195 198\n"
          ],
          "name": "stdout"
        }
      ]
    },
    {
      "cell_type": "markdown",
      "metadata": {
        "id": "DS2DlGZR2BC6",
        "colab_type": "text"
      },
      "source": [
        "#print the nos only divisable by 5 and 7 between 1000 and 2000 using a list( both inclusive)"
      ]
    },
    {
      "cell_type": "code",
      "metadata": {
        "id": "4i8aymFL2BeP",
        "colab_type": "code",
        "outputId": "03d4792a-f49d-48fb-8ac7-805e24cf4437",
        "colab": {
          "base_uri": "https://localhost:8080/",
          "height": 34
        }
      },
      "source": [
        "nl=[]\n",
        "for x in range(1000, 2000):\n",
        "    if (x%7==0) and (x%5==0):\n",
        "        nl.append(str(x))\n",
        "print (','.join(nl))\n"
      ],
      "execution_count": 0,
      "outputs": [
        {
          "output_type": "stream",
          "text": [
            "1015,1050,1085,1120,1155,1190,1225,1260,1295,1330,1365,1400,1435,1470,1505,1540,1575,1610,1645,1680,1715,1750,1785,1820,1855,1890,1925,1960,1995\n"
          ],
          "name": "stdout"
        }
      ]
    },
    {
      "cell_type": "markdown",
      "metadata": {
        "id": "MaxDp4d-2W_8",
        "colab_type": "text"
      },
      "source": [
        "#Add the n number of names in a list and print them alphabetically and reverse alphabetically.\n",
        "\n"
      ]
    },
    {
      "cell_type": "code",
      "metadata": {
        "id": "RgNl741K2XiC",
        "colab_type": "code",
        "outputId": "f7236f54-bf20-4c23-f0a6-a6767dbaea0c",
        "colab": {
          "base_uri": "https://localhost:8080/",
          "height": 168
        }
      },
      "source": [
        "locations = list(input().split())\n",
        "\n",
        "print(\"Original order:\")\n",
        "print(locations)\n",
        "\n",
        "print(\"\\nAlphabetical:\")\n",
        "print(sorted(locations))\n",
        "print(\"\\nReverse alphabetical:\")\n",
        "print(sorted(locations, reverse=True))"
      ],
      "execution_count": 0,
      "outputs": [
        {
          "output_type": "stream",
          "text": [
            "himalaya, andes, tierra del fuego, labrador, guam\n",
            "Original order:\n",
            "['himalaya,', 'andes,', 'tierra', 'del', 'fuego,', 'labrador,', 'guam']\n",
            "\n",
            "Alphabetical:\n",
            "['andes,', 'del', 'fuego,', 'guam', 'himalaya,', 'labrador,', 'tierra']\n",
            "\n",
            "Reverse alphabetical:\n",
            "['tierra', 'labrador,', 'himalaya,', 'guam', 'fuego,', 'del', 'andes,']\n"
          ],
          "name": "stdout"
        }
      ]
    },
    {
      "cell_type": "markdown",
      "metadata": {
        "id": "yR7IvVVO4Wdn",
        "colab_type": "text"
      },
      "source": [
        "# Print  perfect squares and divisible by 5 between 500 and 1000( (both inclusive) using list"
      ]
    },
    {
      "cell_type": "code",
      "metadata": {
        "id": "F4Ht3jNC4W43",
        "colab_type": "code",
        "outputId": "35c53816-5dcc-45c0-fc01-659edcbca0a3",
        "colab": {
          "base_uri": "https://localhost:8080/",
          "height": 1000
        }
      },
      "source": [
        "lower=int(input(\"Enter lower range limit:\"))\n",
        "upper=int(input(\"Enter upper range limit:\"))\n",
        "n=int(input(\"Enter the number to be divided by:\"))\n",
        "for i in range(lower,upper+1):\n",
        "    if(i%n==0):\n",
        "        print(i)"
      ],
      "execution_count": 0,
      "outputs": [
        {
          "output_type": "stream",
          "text": [
            "Enter lower range limit:500\n",
            "Enter upper range limit:1000\n",
            "Enter the number to be divided by:5\n",
            "500\n",
            "505\n",
            "510\n",
            "515\n",
            "520\n",
            "525\n",
            "530\n",
            "535\n",
            "540\n",
            "545\n",
            "550\n",
            "555\n",
            "560\n",
            "565\n",
            "570\n",
            "575\n",
            "580\n",
            "585\n",
            "590\n",
            "595\n",
            "600\n",
            "605\n",
            "610\n",
            "615\n",
            "620\n",
            "625\n",
            "630\n",
            "635\n",
            "640\n",
            "645\n",
            "650\n",
            "655\n",
            "660\n",
            "665\n",
            "670\n",
            "675\n",
            "680\n",
            "685\n",
            "690\n",
            "695\n",
            "700\n",
            "705\n",
            "710\n",
            "715\n",
            "720\n",
            "725\n",
            "730\n",
            "735\n",
            "740\n",
            "745\n",
            "750\n",
            "755\n",
            "760\n",
            "765\n",
            "770\n",
            "775\n",
            "780\n",
            "785\n",
            "790\n",
            "795\n",
            "800\n",
            "805\n",
            "810\n",
            "815\n",
            "820\n",
            "825\n",
            "830\n",
            "835\n",
            "840\n",
            "845\n",
            "850\n",
            "855\n",
            "860\n",
            "865\n",
            "870\n",
            "875\n",
            "880\n",
            "885\n",
            "890\n",
            "895\n",
            "900\n",
            "905\n",
            "910\n",
            "915\n",
            "920\n",
            "925\n",
            "930\n",
            "935\n",
            "940\n",
            "945\n",
            "950\n",
            "955\n",
            "960\n",
            "965\n",
            "970\n",
            "975\n",
            "980\n",
            "985\n",
            "990\n",
            "995\n",
            "1000\n"
          ],
          "name": "stdout"
        }
      ]
    },
    {
      "cell_type": "markdown",
      "metadata": {
        "id": "ZFHWzQUc5FkN",
        "colab_type": "text"
      },
      "source": [
        "#TUPLE EXERCISE"
      ]
    },
    {
      "cell_type": "markdown",
      "metadata": {
        "id": "IQ1fS8xf5IGu",
        "colab_type": "text"
      },
      "source": [
        "#Get  a string and store word by word as elements in a tuple and find the largest word in the  tuple and print it\n",
        "\n"
      ]
    },
    {
      "cell_type": "code",
      "metadata": {
        "id": "54Q38SpT5GAJ",
        "colab_type": "code",
        "outputId": "8a1c7b2c-5859-4cff-9b01-5b30b3edb3d6",
        "colab": {
          "base_uri": "https://localhost:8080/",
          "height": 151
        }
      },
      "source": [
        "a=[]\n",
        "n= int(input(\"Enter the number of elements in list:\"))\n",
        "for x in range(0,n):\n",
        "    element=input(\"Enter element\" + str(x+1) + \":\")\n",
        "    a.append(element)\n",
        "max1=len(a[0])\n",
        "temp=a[0]\n",
        "for i in a:\n",
        "    if(len(i)>max1):\n",
        "       max1=len(i)\n",
        "       temp=i\n",
        "print(\"The word with the longest length is:\")\n",
        "print(temp)"
      ],
      "execution_count": 0,
      "outputs": [
        {
          "output_type": "stream",
          "text": [
            "Enter the number of elements in list:5\n",
            "Enter element1:my\n",
            "Enter element2:name\n",
            "Enter element3:is\n",
            "Enter element4:anonymous\n",
            "Enter element5:Hi\n",
            "The word with the longest length is:\n",
            "anonymous\n"
          ],
          "name": "stdout"
        }
      ]
    },
    {
      "cell_type": "markdown",
      "metadata": {
        "id": "cpgCbkpd_GYE",
        "colab_type": "text"
      },
      "source": [
        "#Get rollno and marks (Rollno, mark) as list of tuples for n number of students through keyboard  and print them in marks descending order with rollno."
      ]
    },
    {
      "cell_type": "code",
      "metadata": {
        "id": "hbJQHtv9_Gwx",
        "colab_type": "code",
        "outputId": "c17c9b49-5f11-47c7-a7b6-b3ce3c46943b",
        "colab": {
          "base_uri": "https://localhost:8080/",
          "height": 117
        }
      },
      "source": [
        "print(sorted([(input(\"Enter rollno: \"), input(\"Enter marks: \")) for i in range(int(input(\"Enter number of students\")))], key=lambda x: x[1],reverse=True))"
      ],
      "execution_count": 0,
      "outputs": [
        {
          "output_type": "stream",
          "text": [
            "Enter number of students2\n",
            "Enter rollno: 85\n",
            "Enter marks: 75\n",
            "Enter rollno: 117\n",
            "Enter marks: 100\n",
            "[('85', '75'), ('117', '100')]\n"
          ],
          "name": "stdout"
        }
      ]
    },
    {
      "cell_type": "markdown",
      "metadata": {
        "id": "HD-lkViz_5VN",
        "colab_type": "text"
      },
      "source": [
        "#Get name and salary (name, salary) as list of tuples for n number of employees through keyboard  and print them in name alphabetical order with salary"
      ]
    },
    {
      "cell_type": "code",
      "metadata": {
        "id": "IBCuHa1v_5yq",
        "colab_type": "code",
        "outputId": "926dbc2d-f332-44bb-f34a-6367252a54d4",
        "colab": {
          "base_uri": "https://localhost:8080/",
          "height": 158
        }
      },
      "source": [
        "print(sorted([(input(\"Enter name: \"), input(\"Enter salary: \")) for i in range(int(input(\"Enter number of employees\")))], key=lambda x: x[0]))"
      ],
      "execution_count": 0,
      "outputs": [
        {
          "output_type": "stream",
          "text": [
            "Enter number of employees3\n",
            "Enter name: alston\n",
            "Enter salary: 40000\n",
            "Enter name: elston\n",
            "Enter salary: 40000\n",
            "Enter name: dhanya\n",
            "Enter salary: 50000\n",
            "[('alston', '40000'), ('dhanya', '50000'), ('elston', '40000')]\n"
          ],
          "name": "stdout"
        }
      ]
    }
  ]
}