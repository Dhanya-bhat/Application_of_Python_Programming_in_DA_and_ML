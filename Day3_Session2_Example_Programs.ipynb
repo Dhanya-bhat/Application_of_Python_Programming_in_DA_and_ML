{
  "nbformat": 4,
  "nbformat_minor": 0,
  "metadata": {
    "colab": {
      "name": "Day3_Session2_Example_Programs.ipynb",
      "provenance": [],
      "collapsed_sections": [],
      "authorship_tag": "ABX9TyO9Op7OLqRw06mYo7sTsap7",
      "include_colab_link": true
    },
    "kernelspec": {
      "name": "python3",
      "display_name": "Python 3"
    }
  },
  "cells": [
    {
      "cell_type": "markdown",
      "metadata": {
        "id": "view-in-github",
        "colab_type": "text"
      },
      "source": [
        "<a href=\"https://colab.research.google.com/github/Dhanya-bhat/Application_of_Python_Programming_in_DA_and_ML/blob/master/Day3_Session2_Example_Programs.ipynb\" target=\"_parent\"><img src=\"https://colab.research.google.com/assets/colab-badge.svg\" alt=\"Open In Colab\"/></a>"
      ]
    },
    {
      "cell_type": "markdown",
      "metadata": {
        "id": "JbsxVSkrARPe",
        "colab_type": "text"
      },
      "source": [
        "Pandas Examples\n",
        "\n",
        "Write a Pandas program to create and display a one-dimensional array using series  containing  even numbers upto 10\n"
      ]
    },
    {
      "cell_type": "code",
      "metadata": {
        "id": "WX3l17jvARw8",
        "colab_type": "code",
        "colab": {
          "base_uri": "https://localhost:8080/",
          "height": 123
        },
        "outputId": "5e82efe4-7f7d-4db9-d9b7-bfbea01a5054"
      },
      "source": [
        "import pandas as pd\n",
        "#ds = pd.Series([2, 4, 6, 8, 10]) \n",
        "print(ds)"
      ],
      "execution_count": null,
      "outputs": [
        {
          "output_type": "stream",
          "text": [
            "0    2.000000\n",
            "1    1.333333\n",
            "2    1.200000\n",
            "3    1.142857\n",
            "4    1.111111\n",
            "dtype: float64\n"
          ],
          "name": "stdout"
        }
      ]
    },
    {
      "cell_type": "markdown",
      "metadata": {
        "id": "PPhWz9FuAhLw",
        "colab_type": "text"
      },
      "source": [
        "Write a Pandas program to convert a Panda module Series to Python list and its type."
      ]
    },
    {
      "cell_type": "code",
      "metadata": {
        "id": "i7rg4LX_Ah4j",
        "colab_type": "code",
        "colab": {
          "base_uri": "https://localhost:8080/",
          "height": 212
        },
        "outputId": "60168692-51d6-4f4b-c7a4-a43d4639ef36"
      },
      "source": [
        "import pandas as pd\n",
        "ds = pd.Series([2, 4, 6, 8, 10])\n",
        "print(\"Pandas Series and type\")\n",
        "print(ds)\n",
        "print(type(ds))\n",
        "print(\"Convert Pandas Series to Python list\")\n",
        "print(ds.tolist())\n",
        "print(type(ds.tolist()))\n"
      ],
      "execution_count": null,
      "outputs": [
        {
          "output_type": "stream",
          "text": [
            "Pandas Series and type\n",
            "0     2\n",
            "1     4\n",
            "2     6\n",
            "3     8\n",
            "4    10\n",
            "dtype: int64\n",
            "<class 'pandas.core.series.Series'>\n",
            "Convert Pandas Series to Python list\n",
            "[2, 4, 6, 8, 10]\n",
            "<class 'list'>\n"
          ],
          "name": "stdout"
        }
      ]
    },
    {
      "cell_type": "markdown",
      "metadata": {
        "id": "LESQVRVCBrP5",
        "colab_type": "text"
      },
      "source": [
        "Write a Pandas program to add, subtract, multiple and divide two Pandas Series.\n",
        "Sample Series: [2, 4, 6, 8, 10], [1, 3, 5, 7, 9]\n"
      ]
    },
    {
      "cell_type": "code",
      "metadata": {
        "id": "vnBAEJ7eBsBj",
        "colab_type": "code",
        "colab": {
          "base_uri": "https://localhost:8080/",
          "height": 512
        },
        "outputId": "0035479d-2a68-4a2c-b164-c561e2b4e944"
      },
      "source": [
        "import pandas as pd\n",
        "ds1 = pd.Series([2, 4, 6, 8, 10])\n",
        "ds2 = pd.Series([1, 3, 5, 7, 9])\n",
        "ds = ds1 + ds2\n",
        "print(\"Add two Series:\")\n",
        "print(ds)\n",
        "print(\"Subtract two Series:\")\n",
        "ds = ds1 - ds2\n",
        "print(ds)\n",
        "print(\"Multiply two Series:\")\n",
        "ds = ds1 * ds2\n",
        "print(ds)\n",
        "print(\"Divide Series1 by Series2:\")\n",
        "ds = ds1 / ds2\n",
        "print(ds)\n"
      ],
      "execution_count": null,
      "outputs": [
        {
          "output_type": "stream",
          "text": [
            "Add two Series:\n",
            "0     3\n",
            "1     7\n",
            "2    11\n",
            "3    15\n",
            "4    19\n",
            "dtype: int64\n",
            "Subtract two Series:\n",
            "0    1\n",
            "1    1\n",
            "2    1\n",
            "3    1\n",
            "4    1\n",
            "dtype: int64\n",
            "Multiply two Series:\n",
            "0     2\n",
            "1    12\n",
            "2    30\n",
            "3    56\n",
            "4    90\n",
            "dtype: int64\n",
            "Divide Series1 by Series2:\n",
            "0    2.000000\n",
            "1    1.333333\n",
            "2    1.200000\n",
            "3    1.142857\n",
            "4    1.111111\n",
            "dtype: float64\n"
          ],
          "name": "stdout"
        }
      ]
    },
    {
      "cell_type": "markdown",
      "metadata": {
        "id": "lxEgELpGB1Ov",
        "colab_type": "text"
      },
      "source": [
        "#Write a Pandas program to compare the elements of the two Pandas Series.\n",
        "#Sample Series: [2, 4, 6, 8, 10], [1, 3, 5, 7, 9]\n"
      ]
    },
    {
      "cell_type": "code",
      "metadata": {
        "id": "toy87eljB15L",
        "colab_type": "code",
        "colab": {
          "base_uri": "https://localhost:8080/",
          "height": 654
        },
        "outputId": "82fd3a14-8533-4671-858f-761b10ddf91f"
      },
      "source": [
        "import pandas as pd\n",
        "ds1 = pd.Series([2, 4, 6, 8, 10])\n",
        "ds2 = pd.Series([1, 3, 5, 7, 10])\n",
        "print(\"Series1:\")\n",
        "print(ds1)\n",
        "print(\"Series2:\")\n",
        "print(ds2)\n",
        "print(\"Compare the elements of the said Series:\")\n",
        "print(\"Equals:\")\n",
        "print(ds1 == ds2)\n",
        "print(\"Greater than:\")\n",
        "print(ds1 > ds2)\n",
        "print(\"Less than:\")\n",
        "print(ds1 < ds2)\n",
        "\n"
      ],
      "execution_count": null,
      "outputs": [
        {
          "output_type": "stream",
          "text": [
            "Series1:\n",
            "0     2\n",
            "1     4\n",
            "2     6\n",
            "3     8\n",
            "4    10\n",
            "dtype: int64\n",
            "Series2:\n",
            "0     1\n",
            "1     3\n",
            "2     5\n",
            "3     7\n",
            "4    10\n",
            "dtype: int64\n",
            "Compare the elements of the said Series:\n",
            "Equals:\n",
            "0    False\n",
            "1    False\n",
            "2    False\n",
            "3    False\n",
            "4     True\n",
            "dtype: bool\n",
            "Greater than:\n",
            "0     True\n",
            "1     True\n",
            "2     True\n",
            "3     True\n",
            "4    False\n",
            "dtype: bool\n",
            "Less than:\n",
            "0    False\n",
            "1    False\n",
            "2    False\n",
            "3    False\n",
            "4    False\n",
            "dtype: bool\n"
          ],
          "name": "stdout"
        }
      ]
    },
    {
      "cell_type": "markdown",
      "metadata": {
        "id": "oMIEl3CbCD7c",
        "colab_type": "text"
      },
      "source": [
        "#Write a Pandas program to convert a dictionary to a Pandas series.\n",
        "#Sample dictionary: d1 = {'a': 100, 'b': 200, 'c':300, 'd':400, 'e':800}\n"
      ]
    },
    {
      "cell_type": "code",
      "metadata": {
        "id": "g5rtkE8GCErj",
        "colab_type": "code",
        "colab": {
          "base_uri": "https://localhost:8080/",
          "height": 176
        },
        "outputId": "af1bf5f1-4da8-4ab1-dbdd-92df9c8ff0b0"
      },
      "source": [
        "import pandas as pd\n",
        "d1 = {'a': 100, 'b': 200, 'c':300, 'd':400, 'e':800}\n",
        "print(\"Original dictionary:\")\n",
        "print(d1)\n",
        "new_series = pd.Series(d1)\n",
        "print(\"Converted series:\")\n",
        "print(new_series)\n"
      ],
      "execution_count": null,
      "outputs": [
        {
          "output_type": "stream",
          "text": [
            "Original dictionary:\n",
            "{'a': 100, 'b': 200, 'c': 300, 'd': 400, 'e': 800}\n",
            "Converted series:\n",
            "a    100\n",
            "b    200\n",
            "c    300\n",
            "d    400\n",
            "e    800\n",
            "dtype: int64\n"
          ],
          "name": "stdout"
        }
      ]
    },
    {
      "cell_type": "markdown",
      "metadata": {
        "id": "_AaiWN2HCJdg",
        "colab_type": "text"
      },
      "source": [
        "#Write a Pandas program to convert a NumPy array to a Pandas series.\n",
        "#Sample NumPy array: d1 = [10, 20, 30, 40, 50]\n"
      ]
    },
    {
      "cell_type": "code",
      "metadata": {
        "id": "uHRqtU0FCMhN",
        "colab_type": "code",
        "colab": {
          "base_uri": "https://localhost:8080/",
          "height": 176
        },
        "outputId": "967b4858-6a72-4922-b807-0776a04d7013"
      },
      "source": [
        "import numpy as np\n",
        "import pandas as pd\n",
        "np_array = np.array([10, 20, 30, 40, 50])\n",
        "print(\"NumPy array:\")\n",
        "print(np_array)\n",
        "new_series = pd.Series(np_array)\n",
        "print(\"Converted Pandas series:\")\n",
        "print(new_series)\n"
      ],
      "execution_count": null,
      "outputs": [
        {
          "output_type": "stream",
          "text": [
            "NumPy array:\n",
            "[10 20 30 40 50]\n",
            "Converted Pandas series:\n",
            "0    10\n",
            "1    20\n",
            "2    30\n",
            "3    40\n",
            "4    50\n",
            "dtype: int64\n"
          ],
          "name": "stdout"
        }
      ]
    },
    {
      "cell_type": "markdown",
      "metadata": {
        "id": "cWZ2LDo-CRtg",
        "colab_type": "text"
      },
      "source": [
        "#Write a Pandas program to change the data type of the given  Series into numeric\n",
        "#['100', '200', 'python', '300.12', '400']\n"
      ]
    },
    {
      "cell_type": "code",
      "metadata": {
        "id": "5FgVZhrBCSeE",
        "colab_type": "code",
        "colab": {
          "base_uri": "https://localhost:8080/",
          "height": 265
        },
        "outputId": "976a8f9f-3fbd-48f6-81bb-344c47544bf5"
      },
      "source": [
        "import pandas as pd\n",
        "s1 = pd.Series(['100', '200', 'python', '300.12', '400a'])\n",
        "print(\"Original Data Series:\")\n",
        "print(s1)\n",
        "print(\"Change the said data type to numeric:\")\n",
        "s2 = pd.to_numeric(s1, errors='coerce')\n",
        "print(s2)\n"
      ],
      "execution_count": null,
      "outputs": [
        {
          "output_type": "stream",
          "text": [
            "Original Data Series:\n",
            "0       100\n",
            "1       200\n",
            "2    python\n",
            "3    300.12\n",
            "4      400a\n",
            "dtype: object\n",
            "Change the said data type to numeric:\n",
            "0    100.00\n",
            "1    200.00\n",
            "2       NaN\n",
            "3    300.12\n",
            "4       NaN\n",
            "dtype: float64\n"
          ],
          "name": "stdout"
        }
      ]
    },
    {
      "cell_type": "markdown",
      "metadata": {
        "id": "sKqJwTf3CZXo",
        "colab_type": "text"
      },
      "source": [
        "# Write a Pandas program to convert a given Series to an array."
      ]
    },
    {
      "cell_type": "code",
      "metadata": {
        "id": "gI0co-vaCaAy",
        "colab_type": "code",
        "colab": {
          "base_uri": "https://localhost:8080/",
          "height": 176
        },
        "outputId": "a0268fe4-1e88-4186-dc52-65970a824f3e"
      },
      "source": [
        "import numpy as np\n",
        "s1 = pd.Series(['100', '200', 'python', '300.12', '400'])\n",
        "print(\"Original Data Series:\")\n",
        "print(s1)\n",
        "print(\"Series to an array\")\n",
        "a = np.array(s1.values.tolist())\n",
        "print (a)\n"
      ],
      "execution_count": null,
      "outputs": [
        {
          "output_type": "stream",
          "text": [
            "Original Data Series:\n",
            "0       100\n",
            "1       200\n",
            "2    python\n",
            "3    300.12\n",
            "4       400\n",
            "dtype: object\n",
            "Series to an array\n",
            "['100' '200' 'python' '300.12' '400']\n"
          ],
          "name": "stdout"
        }
      ]
    },
    {
      "cell_type": "markdown",
      "metadata": {
        "id": "_q3nOSEFCgBf",
        "colab_type": "text"
      },
      "source": [
        "#Write a Pandas program to sort a given Series."
      ]
    },
    {
      "cell_type": "code",
      "metadata": {
        "id": "2eVqgTIECije",
        "colab_type": "code",
        "colab": {
          "base_uri": "https://localhost:8080/",
          "height": 247
        },
        "outputId": "b683ef7f-f121-4929-db01-43da1a84166d"
      },
      "source": [
        "import pandas as pd\n",
        "s = pd.Series(['200','100','python', '300.12', '400'])\n",
        "print(\"Original Data Series:\")\n",
        "print(s)\n",
        "new_s = pd.Series(s).sort_values()\n",
        "print(new_s)\n",
        "\n"
      ],
      "execution_count": null,
      "outputs": [
        {
          "output_type": "stream",
          "text": [
            "Original Data Series:\n",
            "0       200\n",
            "1       100\n",
            "2    python\n",
            "3    300.12\n",
            "4       400\n",
            "dtype: object\n",
            "1       100\n",
            "0       200\n",
            "3    300.12\n",
            "4       400\n",
            "2    python\n",
            "dtype: object\n"
          ],
          "name": "stdout"
        }
      ]
    },
    {
      "cell_type": "markdown",
      "metadata": {
        "id": "Mz4siIeICsib",
        "colab_type": "text"
      },
      "source": [
        "#Write a Pandas program to add some data to an existing Series."
      ]
    },
    {
      "cell_type": "code",
      "metadata": {
        "id": "29RAGfpYCtSr",
        "colab_type": "code",
        "colab": {
          "base_uri": "https://localhost:8080/",
          "height": 318
        },
        "outputId": "69189f51-0798-45cd-fae0-f81d507aca9c"
      },
      "source": [
        "import pandas as pd\n",
        "s = pd.Series(['100', '200', 'python', '300.12', '400'])\n",
        "print(\"Original Data Series:\")\n",
        "print(s)\n",
        "print(\"\\nData Series after adding some data:\")\n",
        "new_s = s.append(pd.Series(['500', 'php']))\n",
        "print(new_s)\n"
      ],
      "execution_count": null,
      "outputs": [
        {
          "output_type": "stream",
          "text": [
            "Original Data Series:\n",
            "0       100\n",
            "1       200\n",
            "2    python\n",
            "3    300.12\n",
            "4       400\n",
            "dtype: object\n",
            "\n",
            "Data Series after adding some data:\n",
            "0       100\n",
            "1       200\n",
            "2    python\n",
            "3    300.12\n",
            "4       400\n",
            "0       500\n",
            "1       php\n",
            "dtype: object\n"
          ],
          "name": "stdout"
        }
      ]
    },
    {
      "cell_type": "markdown",
      "metadata": {
        "id": "3QIR8KO4C2DV",
        "colab_type": "text"
      },
      "source": [
        "#Write a Pandas program to create a subset of a given series based on value and condition."
      ]
    },
    {
      "cell_type": "code",
      "metadata": {
        "id": "a7pucew3C5Ss",
        "colab_type": "code",
        "colab": {
          "base_uri": "https://localhost:8080/",
          "height": 371
        },
        "outputId": "249d1549-3cbf-4ec1-e91a-8b699d881d44"
      },
      "source": [
        "import pandas as pd\n",
        "s = pd.Series([0, 1,2,3,4,5,6,7,8,9,10])\n",
        "print(\"Original Data Series:\")\n",
        "print(s)\n",
        "print(\"\\nSubset of the above Data Series:\")\n",
        "n = 6\n",
        "new_s = s[s >n]\n",
        "print(new_s)\n"
      ],
      "execution_count": null,
      "outputs": [
        {
          "output_type": "stream",
          "text": [
            "Original Data Series:\n",
            "0      0\n",
            "1      1\n",
            "2      2\n",
            "3      3\n",
            "4      4\n",
            "5      5\n",
            "6      6\n",
            "7      7\n",
            "8      8\n",
            "9      9\n",
            "10    10\n",
            "dtype: int64\n",
            "\n",
            "Subset of the above Data Series:\n",
            "7      7\n",
            "8      8\n",
            "9      9\n",
            "10    10\n",
            "dtype: int64\n"
          ],
          "name": "stdout"
        }
      ]
    },
    {
      "cell_type": "markdown",
      "metadata": {
        "id": "9VfXFu-gDItO",
        "colab_type": "text"
      },
      "source": [
        "#Write a Pandas program to change the order of index of a given series."
      ]
    },
    {
      "cell_type": "code",
      "metadata": {
        "id": "HFcB0LcYDLsc",
        "colab_type": "code",
        "colab": {
          "base_uri": "https://localhost:8080/",
          "height": 265
        },
        "outputId": "9bdbf8b6-6ef2-4972-e927-ef5bf6a561ae"
      },
      "source": [
        "import pandas as pd\n",
        "s = pd.Series(data = [1,2,3,4,5], index = ['A', 'B', 'C','D','E'])\n",
        "print(\"Original Data Series:\")\n",
        "print(s)\n",
        "s = s.reindex(index = ['B','A','C','D','E'])\n",
        "print(\"Data Series after changing the order of index:\")\n",
        "print(s)\n"
      ],
      "execution_count": null,
      "outputs": [
        {
          "output_type": "stream",
          "text": [
            "Original Data Series:\n",
            "A    1\n",
            "B    2\n",
            "C    3\n",
            "D    4\n",
            "E    5\n",
            "dtype: int64\n",
            "Data Series after changing the order of index:\n",
            "B    2\n",
            "A    1\n",
            "C    3\n",
            "D    4\n",
            "E    5\n",
            "dtype: int64\n"
          ],
          "name": "stdout"
        }
      ]
    },
    {
      "cell_type": "markdown",
      "metadata": {
        "id": "npvWJH9nDeob",
        "colab_type": "text"
      },
      "source": [
        "#Write a Pandas program to create the mean and standard deviation, maximum and minimum of the data of a given Series."
      ]
    },
    {
      "cell_type": "code",
      "metadata": {
        "id": "9sBlME0jDg76",
        "colab_type": "code",
        "colab": {
          "base_uri": "https://localhost:8080/",
          "height": 318
        },
        "outputId": "292e6fa0-0a16-4a30-ec75-bb572775c787"
      },
      "source": [
        "import pandas as pd\n",
        "s = pd.Series(data = [1,2,3,4,5,6,7,8,9,5,3])\n",
        "print(\"Original Data Series:\")\n",
        "print(s)\n",
        "print(\"Mean of the said Data Series:\")\n",
        "print(s.mean())\n",
        "print(\"Standard deviation of the said Data Series:\")\n",
        "print(s.std())\n"
      ],
      "execution_count": null,
      "outputs": [
        {
          "output_type": "stream",
          "text": [
            "Original Data Series:\n",
            "0     1\n",
            "1     2\n",
            "2     3\n",
            "3     4\n",
            "4     5\n",
            "5     6\n",
            "6     7\n",
            "7     8\n",
            "8     9\n",
            "9     5\n",
            "10    3\n",
            "dtype: int64\n",
            "Mean of the said Data Series:\n",
            "4.818181818181818\n",
            "Standard deviation of the said Data Series:\n",
            "2.522624895547565\n"
          ],
          "name": "stdout"
        }
      ]
    },
    {
      "cell_type": "markdown",
      "metadata": {
        "id": "rd2tDNhZDmhL",
        "colab_type": "text"
      },
      "source": [
        "#Write a Pandas program to get the elements of an array values into column-wise.\n",
        "#Sample data: {‘X’:[78,85,96,80,86], 'Y':[84,94,89,83,86],'Z':[86,97,96,72,83]}\n"
      ]
    },
    {
      "cell_type": "code",
      "metadata": {
        "id": "8CLrJEXaDqDE",
        "colab_type": "code",
        "colab": {
          "base_uri": "https://localhost:8080/",
          "height": 123
        },
        "outputId": "4dbe180d-2f4b-4a2d-b74d-ea204e7c74a1"
      },
      "source": [
        "import pandas as pd\n",
        "df = pd.DataFrame({'X':[78,85,96,80,86], 'Y':[84,94,89,83,86],'Z':[86,97,96,72,83]});\n",
        "print(df)\n"
      ],
      "execution_count": null,
      "outputs": [
        {
          "output_type": "stream",
          "text": [
            "    X   Y   Z\n",
            "0  78  84  86\n",
            "1  85  94  97\n",
            "2  96  89  96\n",
            "3  80  83  72\n",
            "4  86  86  83\n"
          ],
          "name": "stdout"
        }
      ]
    },
    {
      "cell_type": "markdown",
      "metadata": {
        "id": "K60TYR-3Dut6",
        "colab_type": "text"
      },
      "source": [
        "#Write a Pandas program to get the columns of the DataFrame (movies_metadata.csv file)."
      ]
    },
    {
      "cell_type": "code",
      "metadata": {
        "id": "NlrApRSJDw3c",
        "colab_type": "code",
        "colab": {
          "base_uri": "https://localhost:8080/",
          "height": 88
        },
        "outputId": "f38b1dd4-b028-418f-e675-2637ffe60b26"
      },
      "source": [
        "import pandas as pd\n",
        "import numpy as np\n",
        "df = pd.read_csv('movies_metadata.csv')\n",
        "print(\"Columns of the DataFrame:\")\n",
        "print(df.columns)\n",
        "\n"
      ],
      "execution_count": null,
      "outputs": [
        {
          "output_type": "stream",
          "text": [
            "Columns of the DataFrame:\n",
            "Index(['name', 'mpg', 'cyl', 'disp', 'hp', 'drat', 'wt', 'qsec', 'vs', 'am',\n",
            "       'gear', 'carb'],\n",
            "      dtype='object')\n"
          ],
          "name": "stdout"
        }
      ]
    },
    {
      "cell_type": "markdown",
      "metadata": {
        "id": "1zwS1spUD0qb",
        "colab_type": "text"
      },
      "source": [
        "#Write a Pandas program to sort the DataFrame based on country from dataset of \n",
        "# movie_metadata.csv\n"
      ]
    },
    {
      "cell_type": "code",
      "metadata": {
        "id": "3X6LWMpdD_4I",
        "colab_type": "code",
        "colab": {}
      },
      "source": [
        "import pandas as pd\n",
        "import numpy as np\n",
        "df = pd.read_csv('movies_metadata.csv')\n",
        "print(\"sorted by country\")\n",
        "small_df = df[['num_user_for_reviews','language','country','content_rating','budget','title_year']]\n",
        "result = small_df.sort_values('country')\n",
        "print(\"DataFrame based on release date.\")\n",
        "print(result)\n",
        "\n"
      ],
      "execution_count": null,
      "outputs": []
    },
    {
      "cell_type": "markdown",
      "metadata": {
        "id": "y4sXrssLEC4Y",
        "colab_type": "text"
      },
      "source": [
        "#Write a Pandas program to get the details of the thrid movie of the DataFrame #(movie_metadata.csv file)."
      ]
    },
    {
      "cell_type": "code",
      "metadata": {
        "id": "1yTGOLPVEFb8",
        "colab_type": "code",
        "colab": {
          "base_uri": "https://localhost:8080/",
          "height": 265
        },
        "outputId": "fbf8baa0-f238-479a-a0d2-9e52b6e0c24c"
      },
      "source": [
        "import pandas as pd\n",
        "df = pd.read_csv('movies_metadata.csv')\n",
        "third_movie = df.iloc[2]\n",
        "print(\"Details of the third moviee:\")\n",
        "print(third_movie)\n"
      ],
      "execution_count": null,
      "outputs": [
        {
          "output_type": "stream",
          "text": [
            "Details of the third moviee:\n",
            "name    Datsun 710\n",
            "mpg           22.8\n",
            "cyl              4\n",
            "disp           108\n",
            "hp              93\n",
            "drat          3.85\n",
            "wt            2.32\n",
            "qsec         18.61\n",
            "vs               1\n",
            "am               1\n",
            "gear             4\n",
            "carb             1\n",
            "Name: 2, dtype: object\n"
          ],
          "name": "stdout"
        }
      ]
    },
    {
      "cell_type": "markdown",
      "metadata": {
        "id": "LNFyeASuEKnt",
        "colab_type": "text"
      },
      "source": [
        "#Write a Pandas program to display the first 10 rows of the DataFrame."
      ]
    },
    {
      "cell_type": "code",
      "metadata": {
        "id": "APsXo2zREkCk",
        "colab_type": "code",
        "colab": {}
      },
      "source": [
        "import pandas as pd\n",
        "df = pd.read_csv('movie_metadata.csv')\n",
        "#Display the first 10 rows\n",
        "result = df.head(10)\n",
        "print(\"First 10 rows of the DataFrame:\")\n",
        "print(result)"
      ],
      "execution_count": null,
      "outputs": []
    },
    {
      "cell_type": "markdown",
      "metadata": {
        "id": "yr7YaqQSEmYs",
        "colab_type": "text"
      },
      "source": [
        "Numpy Examples\n",
        "\n",
        "#Write a NumPy program to generate five random numbers from the normal distribution.\n"
      ]
    },
    {
      "cell_type": "code",
      "metadata": {
        "id": "XOuEK_KoEp5d",
        "colab_type": "code",
        "colab": {
          "base_uri": "https://localhost:8080/",
          "height": 35
        },
        "outputId": "9e929ec0-a81c-4fe1-dd98-101b989bbacf"
      },
      "source": [
        "import numpy as np\n",
        "x = np.random.normal(size=5)\n",
        "print(x)\n"
      ],
      "execution_count": null,
      "outputs": [
        {
          "output_type": "stream",
          "text": [
            "[-0.73484332 -2.06758974 -0.42557708  1.2968138   1.4552791 ]\n"
          ],
          "name": "stdout"
        }
      ]
    },
    {
      "cell_type": "markdown",
      "metadata": {
        "id": "L7KBCBVLEubT",
        "colab_type": "text"
      },
      "source": [
        "#Write a NumPy program to generate six random integers between 10 and 30"
      ]
    },
    {
      "cell_type": "code",
      "metadata": {
        "id": "Z49OFfCWExET",
        "colab_type": "code",
        "colab": {
          "base_uri": "https://localhost:8080/",
          "height": 35
        },
        "outputId": "548b1664-b6e9-4eb9-a2e2-d1937f889832"
      },
      "source": [
        "import numpy as np\n",
        "x = np.random.randint(low=10, high=30, size=6)\n",
        "print(x)\n"
      ],
      "execution_count": null,
      "outputs": [
        {
          "output_type": "stream",
          "text": [
            "[29 12 11 14 21 19]\n"
          ],
          "name": "stdout"
        }
      ]
    },
    {
      "cell_type": "markdown",
      "metadata": {
        "id": "I39qxGqQE0RT",
        "colab_type": "text"
      },
      "source": [
        "#Write a NumPy program to create a 3x3x3 array with random values"
      ]
    },
    {
      "cell_type": "code",
      "metadata": {
        "id": "5Wv9UjjTE3MP",
        "colab_type": "code",
        "colab": {
          "base_uri": "https://localhost:8080/",
          "height": 212
        },
        "outputId": "ec34f877-1a34-4c96-db28-06739acdee09"
      },
      "source": [
        "import numpy as np\n",
        "x = np.random.random((3,3,3))\n",
        "print(x)\n"
      ],
      "execution_count": null,
      "outputs": [
        {
          "output_type": "stream",
          "text": [
            "[[[0.99487735 0.60625752 0.12767563]\n",
            "  [0.14247992 0.56553103 0.2649341 ]\n",
            "  [0.30921218 0.25306467 0.0590202 ]]\n",
            "\n",
            " [[0.7203675  0.80142269 0.4099631 ]\n",
            "  [0.23301769 0.18491438 0.79701086]\n",
            "  [0.69266648 0.80946078 0.16679682]]\n",
            "\n",
            " [[0.36629437 0.96430302 0.01779249]\n",
            "  [0.57060501 0.37709053 0.37284755]\n",
            "  [0.00479387 0.5819956  0.66125106]]]\n"
          ],
          "name": "stdout"
        }
      ]
    },
    {
      "cell_type": "markdown",
      "metadata": {
        "id": "1RqgtMVOE6AS",
        "colab_type": "text"
      },
      "source": [
        "#Write a NumPy program to create a 5x5 array with random values and find the minimum #and maximum values."
      ]
    },
    {
      "cell_type": "code",
      "metadata": {
        "id": "sLTfRk_NE9BL",
        "colab_type": "code",
        "colab": {
          "base_uri": "https://localhost:8080/",
          "height": 158
        },
        "outputId": "b3bd0369-fbc7-4e38-c797-f88ba8f5c20c"
      },
      "source": [
        "import numpy as np\n",
        "x = np.random.random((5,5))\n",
        "print(\"Original Array:\")\n",
        "print(x) \n",
        "xmin, xmax = x.min(), x.max()\n",
        "print(\"Minimum and Maximum Values:\")\n",
        "print(xmin, xmax)\n"
      ],
      "execution_count": null,
      "outputs": [
        {
          "output_type": "stream",
          "text": [
            "Original Array:\n",
            "[[0.268411   0.65110316 0.74505169 0.67858868 0.12788649]\n",
            " [0.2104576  0.24421051 0.76203197 0.389655   0.02859948]\n",
            " [0.54179748 0.14756903 0.11719889 0.62904615 0.28841964]\n",
            " [0.0315095  0.09493423 0.61364028 0.71881946 0.72213014]\n",
            " [0.58050351 0.68820317 0.78540052 0.02553304 0.05474081]]\n",
            "Minimum and Maximum Values:\n",
            "0.0255330412818493 0.7854005179651231\n"
          ],
          "name": "stdout"
        }
      ]
    },
    {
      "cell_type": "markdown",
      "metadata": {
        "id": "D4ROyqN-E_Ka",
        "colab_type": "text"
      },
      "source": [
        "#Write a NumPy program to create a random 10x4 array and extract the first five rows of the # array and store them into a variable."
      ]
    },
    {
      "cell_type": "code",
      "metadata": {
        "id": "DLpv64KxFBKW",
        "colab_type": "code",
        "colab": {
          "base_uri": "https://localhost:8080/",
          "height": 512
        },
        "outputId": "ff7a66dc-f83d-4960-b78f-0c01be7602bf"
      },
      "source": [
        "import numpy as np\n",
        "x = np.random.rand(10, 4)\n",
        "print(\"Original array: \")\n",
        "print(x)\n",
        "y= x[:5, :]\n",
        "print(\"First 5 rows of the above array:\")\n",
        "y= x[:5, :]\n",
        "print(y)\n",
        "z= x[:, :4]\n",
        "print(\"First 3 columns of the above array:\")\n",
        "print(z)\n",
        "\n"
      ],
      "execution_count": null,
      "outputs": [
        {
          "output_type": "stream",
          "text": [
            "Original array: \n",
            "[[0.8438316  0.33133734 0.10827034 0.60587292]\n",
            " [0.99836023 0.12835129 0.34399752 0.3405714 ]\n",
            " [0.77876727 0.42287549 0.49141884 0.03650347]\n",
            " [0.05105686 0.21260386 0.14369151 0.67996685]\n",
            " [0.08773749 0.4437854  0.00493381 0.67100403]\n",
            " [0.47012345 0.67225777 0.00150105 0.73902107]\n",
            " [0.2459916  0.06414632 0.09016716 0.63882783]\n",
            " [0.89808954 0.23416089 0.66633577 0.54259273]\n",
            " [0.72629197 0.67198708 0.94530081 0.17102317]\n",
            " [0.98215293 0.91603302 0.60092954 0.47007975]]\n",
            "First 5 rows of the above array:\n",
            "[[0.8438316  0.33133734 0.10827034 0.60587292]\n",
            " [0.99836023 0.12835129 0.34399752 0.3405714 ]\n",
            " [0.77876727 0.42287549 0.49141884 0.03650347]\n",
            " [0.05105686 0.21260386 0.14369151 0.67996685]\n",
            " [0.08773749 0.4437854  0.00493381 0.67100403]]\n",
            "First 3 columns of the above array:\n",
            "[[0.8438316  0.33133734 0.10827034 0.60587292]\n",
            " [0.99836023 0.12835129 0.34399752 0.3405714 ]\n",
            " [0.77876727 0.42287549 0.49141884 0.03650347]\n",
            " [0.05105686 0.21260386 0.14369151 0.67996685]\n",
            " [0.08773749 0.4437854  0.00493381 0.67100403]\n",
            " [0.47012345 0.67225777 0.00150105 0.73902107]\n",
            " [0.2459916  0.06414632 0.09016716 0.63882783]\n",
            " [0.89808954 0.23416089 0.66633577 0.54259273]\n",
            " [0.72629197 0.67198708 0.94530081 0.17102317]\n",
            " [0.98215293 0.91603302 0.60092954 0.47007975]]\n"
          ],
          "name": "stdout"
        }
      ]
    },
    {
      "cell_type": "markdown",
      "metadata": {
        "id": "sh3W_tanFQVq",
        "colab_type": "text"
      },
      "source": [
        "#Write a NumPy program to shuffle numbers and find permutation  between 0 and 10 #(inclusive)."
      ]
    },
    {
      "cell_type": "code",
      "metadata": {
        "id": "V_t5JhiOFTRL",
        "colab_type": "code",
        "colab": {
          "base_uri": "https://localhost:8080/",
          "height": 70
        },
        "outputId": "6a1eb2cb-5fc6-42f9-97bc-991c1b987b2a"
      },
      "source": [
        "import numpy as np\n",
        "x = np.arange(10)\n",
        "np.random.shuffle(x)\n",
        "print(x)\n",
        "print(\"Same result using permutation():\")\n",
        "print(np.random.permutation(10))\n"
      ],
      "execution_count": null,
      "outputs": [
        {
          "output_type": "stream",
          "text": [
            "[5 1 6 4 0 2 7 9 8 3]\n",
            "Same result using permutation():\n",
            "[2 6 7 3 4 8 9 0 5 1]\n"
          ],
          "name": "stdout"
        }
      ]
    },
    {
      "cell_type": "markdown",
      "metadata": {
        "id": "zsVZdrDSFXCA",
        "colab_type": "text"
      },
      "source": [
        "#Write a NumPy program to create a random integer nos of size 10 and sort it."
      ]
    },
    {
      "cell_type": "code",
      "metadata": {
        "id": "fz1VrbV7FZz3",
        "colab_type": "code",
        "colab": {
          "base_uri": "https://localhost:8080/",
          "height": 327
        },
        "outputId": "873b15c9-64e0-4741-af2c-e05670efcf69"
      },
      "source": [
        "import numpy as np\n",
        "x=np.arange(10)\n",
        "np.random.randint(x)\n",
        "print (x)\n"
      ],
      "execution_count": null,
      "outputs": [
        {
          "output_type": "error",
          "ename": "ValueError",
          "evalue": "ignored",
          "traceback": [
            "\u001b[0;31m---------------------------------------------------------------------------\u001b[0m",
            "\u001b[0;31mValueError\u001b[0m                                Traceback (most recent call last)",
            "\u001b[0;32m<ipython-input-32-98eddc2839ce>\u001b[0m in \u001b[0;36m<module>\u001b[0;34m()\u001b[0m\n\u001b[1;32m      1\u001b[0m \u001b[0;32mimport\u001b[0m \u001b[0mnumpy\u001b[0m \u001b[0;32mas\u001b[0m \u001b[0mnp\u001b[0m\u001b[0;34m\u001b[0m\u001b[0;34m\u001b[0m\u001b[0m\n\u001b[1;32m      2\u001b[0m \u001b[0mx\u001b[0m\u001b[0;34m=\u001b[0m\u001b[0mnp\u001b[0m\u001b[0;34m.\u001b[0m\u001b[0marange\u001b[0m\u001b[0;34m(\u001b[0m\u001b[0;36m10\u001b[0m\u001b[0;34m)\u001b[0m\u001b[0;34m\u001b[0m\u001b[0;34m\u001b[0m\u001b[0m\n\u001b[0;32m----> 3\u001b[0;31m \u001b[0mnp\u001b[0m\u001b[0;34m.\u001b[0m\u001b[0mrandom\u001b[0m\u001b[0;34m.\u001b[0m\u001b[0mrandint\u001b[0m\u001b[0;34m(\u001b[0m\u001b[0mx\u001b[0m\u001b[0;34m)\u001b[0m\u001b[0;34m\u001b[0m\u001b[0;34m\u001b[0m\u001b[0m\n\u001b[0m\u001b[1;32m      4\u001b[0m \u001b[0mprint\u001b[0m \u001b[0;34m(\u001b[0m\u001b[0mx\u001b[0m\u001b[0;34m)\u001b[0m\u001b[0;34m\u001b[0m\u001b[0;34m\u001b[0m\u001b[0m\n",
            "\u001b[0;32mmtrand.pyx\u001b[0m in \u001b[0;36mnumpy.random.mtrand.RandomState.randint\u001b[0;34m()\u001b[0m\n",
            "\u001b[0;32m_bounded_integers.pyx\u001b[0m in \u001b[0;36mnumpy.random._bounded_integers._rand_int64\u001b[0;34m()\u001b[0m\n",
            "\u001b[0;32m_bounded_integers.pyx\u001b[0m in \u001b[0;36mnumpy.random._bounded_integers._rand_int64_broadcast\u001b[0;34m()\u001b[0m\n",
            "\u001b[0;31mValueError\u001b[0m: low >= high"
          ]
        }
      ]
    },
    {
      "cell_type": "markdown",
      "metadata": {
        "id": "pkNB8QiTFnAN",
        "colab_type": "text"
      },
      "source": [
        "#Write a NumPy program to create a random integer nos of size 10 and sort it."
      ]
    },
    {
      "cell_type": "code",
      "metadata": {
        "id": "AedKrZmBFpnI",
        "colab_type": "code",
        "colab": {
          "base_uri": "https://localhost:8080/",
          "height": 52
        },
        "outputId": "09e855de-6a3b-4ed1-d22a-d2d72e8cf9dd"
      },
      "source": [
        "import numpy as np\n",
        "x=np.arange(10)\n",
        "np.random.shuffle(x)\n",
        "print(x)\n",
        "x.sort()\n",
        "print(x)\n"
      ],
      "execution_count": null,
      "outputs": [
        {
          "output_type": "stream",
          "text": [
            "[3 8 5 9 7 2 4 6 0 1]\n",
            "[0 1 2 3 4 5 6 7 8 9]\n"
          ],
          "name": "stdout"
        }
      ]
    },
    {
      "cell_type": "markdown",
      "metadata": {
        "id": "CiaWCdpjFzp2",
        "colab_type": "text"
      },
      "source": [
        ""
      ]
    }
  ]
}